{
 "cells": [
  {
   "cell_type": "markdown",
   "metadata": {},
   "source": [
    "# Data Analyst Hit Feature"
   ]
  },
  {
   "cell_type": "code",
   "execution_count": 169,
   "metadata": {},
   "outputs": [],
   "source": [
    "import numpy as np\n",
    "import pandas as pd\n",
    "import seaborn as sns\n",
    "import json\n",
    "from pandas.io.json import json_normalize"
   ]
  },
  {
   "cell_type": "code",
   "execution_count": 76,
   "metadata": {},
   "outputs": [],
   "source": [
    "# Path data\n",
    "df_file = pd.ExcelFile(r\"C:\\Users\\jalerse\\Documents\\DataAnalys-Pivot\\Data Pivot Party 19012021.xlsx\")"
   ]
  },
  {
   "cell_type": "code",
   "execution_count": 7,
   "metadata": {},
   "outputs": [
    {
     "data": {
      "text/plain": [
       "['User Device',\n",
       " 'user_command_2020-01',\n",
       " 'uc_2020_02',\n",
       " 'uc_2020_03',\n",
       " 'uc_2020_04',\n",
       " 'uc_2020_05',\n",
       " 'uc_2020_06',\n",
       " 'uc_2020_07',\n",
       " 'uc_2020_08',\n",
       " 'uc_2020_09',\n",
       " 'uc_2020_10',\n",
       " 'uc_2020_11',\n",
       " 'uc_2020_12',\n",
       " 'Pivot 1',\n",
       " 'Sheet4',\n",
       " 'Sheet5',\n",
       " 'Sheet6',\n",
       " 'Sheet7',\n",
       " 'Sheet8',\n",
       " 'Data Q4 2020']"
      ]
     },
     "execution_count": 7,
     "metadata": {},
     "output_type": "execute_result"
    }
   ],
   "source": [
    "df_file.sheet_names"
   ]
  },
  {
   "cell_type": "markdown",
   "metadata": {},
   "source": [
    "## Data Cleansing"
   ]
  },
  {
   "cell_type": "code",
   "execution_count": 215,
   "metadata": {},
   "outputs": [
    {
     "data": {
      "text/html": [
       "<div>\n",
       "<style scoped>\n",
       "    .dataframe tbody tr th:only-of-type {\n",
       "        vertical-align: middle;\n",
       "    }\n",
       "\n",
       "    .dataframe tbody tr th {\n",
       "        vertical-align: top;\n",
       "    }\n",
       "\n",
       "    .dataframe thead th {\n",
       "        text-align: right;\n",
       "    }\n",
       "</style>\n",
       "<table border=\"1\" class=\"dataframe\">\n",
       "  <thead>\n",
       "    <tr style=\"text-align: right;\">\n",
       "      <th></th>\n",
       "      <th>DateTime</th>\n",
       "      <th>User</th>\n",
       "      <th>Intent</th>\n",
       "      <th>Message Request</th>\n",
       "    </tr>\n",
       "  </thead>\n",
       "  <tbody>\n",
       "    <tr>\n",
       "      <th>0</th>\n",
       "      <td>2020-12-01 00:01:12</td>\n",
       "      <td>105592359704484524120-12505823624394857012</td>\n",
       "      <td>usr.ask_music</td>\n",
       "      <td>{\"msg\":[{\"text\":\"putar musik\"}]}</td>\n",
       "    </tr>\n",
       "    <tr>\n",
       "      <th>1</th>\n",
       "      <td>2020-12-01 00:01:27</td>\n",
       "      <td>105592359704484524120-12505823624394857012</td>\n",
       "      <td>usr.ask_smaltalk</td>\n",
       "      <td>{\"msg\":[{\"text\":\"sandy mohede\"}]}</td>\n",
       "    </tr>\n",
       "    <tr>\n",
       "      <th>2</th>\n",
       "      <td>2020-12-01 00:01:43</td>\n",
       "      <td>105592359704484524120-12505823624394857012</td>\n",
       "      <td>usr.ask_music</td>\n",
       "      <td>{\"msg\":[{\"text\":\"putar musik\"}]}</td>\n",
       "    </tr>\n",
       "    <tr>\n",
       "      <th>3</th>\n",
       "      <td>2020-12-01 00:01:52</td>\n",
       "      <td>105592359704484524120-12505823624394857012</td>\n",
       "      <td>usr.ask_smaltalk</td>\n",
       "      <td>{\"msg\":[{\"text\":\"jeffry s tjandra\"}]}</td>\n",
       "    </tr>\n",
       "    <tr>\n",
       "      <th>4</th>\n",
       "      <td>2020-12-01 02:17:55</td>\n",
       "      <td>108309871992691443733-2009100570206848176</td>\n",
       "      <td>usr.ask_alquran</td>\n",
       "      <td>{\"msg\":[{\"text\":\"baca alquran surat al-baqoroh...</td>\n",
       "    </tr>\n",
       "  </tbody>\n",
       "</table>\n",
       "</div>"
      ],
      "text/plain": [
       "             DateTime                                        User  \\\n",
       "0 2020-12-01 00:01:12  105592359704484524120-12505823624394857012   \n",
       "1 2020-12-01 00:01:27  105592359704484524120-12505823624394857012   \n",
       "2 2020-12-01 00:01:43  105592359704484524120-12505823624394857012   \n",
       "3 2020-12-01 00:01:52  105592359704484524120-12505823624394857012   \n",
       "4 2020-12-01 02:17:55   108309871992691443733-2009100570206848176   \n",
       "\n",
       "             Intent                                    Message Request  \n",
       "0     usr.ask_music                   {\"msg\":[{\"text\":\"putar musik\"}]}  \n",
       "1  usr.ask_smaltalk                  {\"msg\":[{\"text\":\"sandy mohede\"}]}  \n",
       "2     usr.ask_music                   {\"msg\":[{\"text\":\"putar musik\"}]}  \n",
       "3  usr.ask_smaltalk              {\"msg\":[{\"text\":\"jeffry s tjandra\"}]}  \n",
       "4   usr.ask_alquran  {\"msg\":[{\"text\":\"baca alquran surat al-baqoroh...  "
      ]
     },
     "execution_count": 215,
     "metadata": {},
     "output_type": "execute_result"
    }
   ],
   "source": [
    "# Data loading\n",
    "df = pd.read_excel(df_file, sheet_name='uc_2020_12')\n",
    "df = df.iloc[:,1:] # hilangin kolom tidak terpakai(kosong)\n",
    "# df.drop(['DateTime', 'Message Request'], inplace=True, axis=1)\n",
    "df.head()"
   ]
  },
  {
   "cell_type": "code",
   "execution_count": 219,
   "metadata": {},
   "outputs": [],
   "source": [
    "df['Intent'] = df['Intent'].str.replace('usr.ask_','')\n",
    "df['Message Request'] = df['Message Request'].apply(lambda msg_request: (json.loads(msg_request)['msg'][0]['text']))"
   ]
  },
  {
   "cell_type": "code",
   "execution_count": 232,
   "metadata": {},
   "outputs": [
    {
     "data": {
      "text/html": [
       "<div>\n",
       "<style scoped>\n",
       "    .dataframe tbody tr th:only-of-type {\n",
       "        vertical-align: middle;\n",
       "    }\n",
       "\n",
       "    .dataframe tbody tr th {\n",
       "        vertical-align: top;\n",
       "    }\n",
       "\n",
       "    .dataframe thead th {\n",
       "        text-align: right;\n",
       "    }\n",
       "</style>\n",
       "<table border=\"1\" class=\"dataframe\">\n",
       "  <thead>\n",
       "    <tr style=\"text-align: right;\">\n",
       "      <th></th>\n",
       "      <th>DateTime</th>\n",
       "      <th>User</th>\n",
       "      <th>Intent</th>\n",
       "      <th>Message Request</th>\n",
       "    </tr>\n",
       "  </thead>\n",
       "  <tbody>\n",
       "    <tr>\n",
       "      <th>0</th>\n",
       "      <td>2020-12-01 00:01:12</td>\n",
       "      <td>105592359704484524120-12505823624394857012</td>\n",
       "      <td>music</td>\n",
       "      <td>putar musik</td>\n",
       "    </tr>\n",
       "    <tr>\n",
       "      <th>1</th>\n",
       "      <td>2020-12-01 00:01:27</td>\n",
       "      <td>105592359704484524120-12505823624394857012</td>\n",
       "      <td>smaltalk</td>\n",
       "      <td>sandy mohede</td>\n",
       "    </tr>\n",
       "    <tr>\n",
       "      <th>2</th>\n",
       "      <td>2020-12-01 00:01:43</td>\n",
       "      <td>105592359704484524120-12505823624394857012</td>\n",
       "      <td>music</td>\n",
       "      <td>putar musik</td>\n",
       "    </tr>\n",
       "    <tr>\n",
       "      <th>3</th>\n",
       "      <td>2020-12-01 00:01:52</td>\n",
       "      <td>105592359704484524120-12505823624394857012</td>\n",
       "      <td>smaltalk</td>\n",
       "      <td>jeffry s tjandra</td>\n",
       "    </tr>\n",
       "    <tr>\n",
       "      <th>4</th>\n",
       "      <td>2020-12-01 02:17:55</td>\n",
       "      <td>108309871992691443733-2009100570206848176</td>\n",
       "      <td>alquran</td>\n",
       "      <td>baca alquran surat al-baqoroh</td>\n",
       "    </tr>\n",
       "  </tbody>\n",
       "</table>\n",
       "</div>"
      ],
      "text/plain": [
       "             DateTime                                        User    Intent  \\\n",
       "0 2020-12-01 00:01:12  105592359704484524120-12505823624394857012     music   \n",
       "1 2020-12-01 00:01:27  105592359704484524120-12505823624394857012  smaltalk   \n",
       "2 2020-12-01 00:01:43  105592359704484524120-12505823624394857012     music   \n",
       "3 2020-12-01 00:01:52  105592359704484524120-12505823624394857012  smaltalk   \n",
       "4 2020-12-01 02:17:55   108309871992691443733-2009100570206848176   alquran   \n",
       "\n",
       "                 Message Request  \n",
       "0                    putar musik  \n",
       "1                   sandy mohede  \n",
       "2                    putar musik  \n",
       "3               jeffry s tjandra  \n",
       "4  baca alquran surat al-baqoroh  "
      ]
     },
     "execution_count": 232,
     "metadata": {},
     "output_type": "execute_result"
    }
   ],
   "source": [
    "df.head()"
   ]
  },
  {
   "cell_type": "code",
   "execution_count": 167,
   "metadata": {},
   "outputs": [
    {
     "data": {
      "text/plain": [
       "0                       {'msg': [{'text': 'putar musik'}]}\n",
       "1                      {'msg': [{'text': 'sandy mohede'}]}\n",
       "2                       {'msg': [{'text': 'putar musik'}]}\n",
       "3                  {'msg': [{'text': 'jeffry s tjandra'}]}\n",
       "4        {'msg': [{'text': 'baca alquran surat al-baqor...\n",
       "                               ...                        \n",
       "12230    {'msg': [{'text': 'bacakan alquran surah alkah...\n",
       "12231    {'msg': [{'text': 'bacakan alquran surah alkah...\n",
       "12232    {'msg': [{'text': 'bacakan alquran surah alkah...\n",
       "12233    {'msg': [{'text': 'bacakan alquran surah alkah...\n",
       "12234    {'msg': [{'text': 'bacakan alquran surah alkah...\n",
       "Name: Message Request, Length: 12235, dtype: object"
      ]
     },
     "execution_count": 167,
     "metadata": {},
     "output_type": "execute_result"
    }
   ],
   "source": [
    "df['Message Request'].apply(json.loads)"
   ]
  },
  {
   "cell_type": "code",
   "execution_count": 217,
   "metadata": {},
   "outputs": [
    {
     "data": {
      "text/plain": [
       "0                          putar musik\n",
       "1                         sandy mohede\n",
       "2                          putar musik\n",
       "3                     jeffry s tjandra\n",
       "4        baca alquran surat al-baqoroh\n",
       "                     ...              \n",
       "12230    bacakan alquran surah alkahfi\n",
       "12231    bacakan alquran surah alkahfi\n",
       "12232    bacakan alquran surah alkahfi\n",
       "12233    bacakan alquran surah alkahfi\n",
       "12234    bacakan alquran surah alkahfi\n",
       "Name: Message Request, Length: 12235, dtype: object"
      ]
     },
     "execution_count": 217,
     "metadata": {},
     "output_type": "execute_result"
    }
   ],
   "source": [
    "# json_normalize(df['Message Request'][0])\n",
    "# pd.json_normalize(json.loads(df['Message Request'][0])\n",
    "# pd.json_normalize(df['Message Request'].apply(json.loads))\n",
    "\n",
    "df['Message Request'].apply(lambda msg_request: (json.loads(msg_request)['msg'][0]['text']))\n",
    "\n",
    "# p = json.loads(text)\n",
    "# p['msg'][index]['text']"
   ]
  },
  {
   "cell_type": "code",
   "execution_count": 218,
   "metadata": {},
   "outputs": [
    {
     "data": {
      "text/html": [
       "<div>\n",
       "<style scoped>\n",
       "    .dataframe tbody tr th:only-of-type {\n",
       "        vertical-align: middle;\n",
       "    }\n",
       "\n",
       "    .dataframe tbody tr th {\n",
       "        vertical-align: top;\n",
       "    }\n",
       "\n",
       "    .dataframe thead th {\n",
       "        text-align: right;\n",
       "    }\n",
       "</style>\n",
       "<table border=\"1\" class=\"dataframe\">\n",
       "  <thead>\n",
       "    <tr style=\"text-align: right;\">\n",
       "      <th></th>\n",
       "      <th>DateTime</th>\n",
       "      <th>User</th>\n",
       "      <th>Intent</th>\n",
       "      <th>Message Request</th>\n",
       "    </tr>\n",
       "  </thead>\n",
       "  <tbody>\n",
       "    <tr>\n",
       "      <th>0</th>\n",
       "      <td>2020-12-01 00:01:12</td>\n",
       "      <td>105592359704484524120-12505823624394857012</td>\n",
       "      <td>usr.ask_music</td>\n",
       "      <td>{\"msg\":[{\"text\":\"putar musik\"}]}</td>\n",
       "    </tr>\n",
       "    <tr>\n",
       "      <th>1</th>\n",
       "      <td>2020-12-01 00:01:27</td>\n",
       "      <td>105592359704484524120-12505823624394857012</td>\n",
       "      <td>usr.ask_smaltalk</td>\n",
       "      <td>{\"msg\":[{\"text\":\"sandy mohede\"}]}</td>\n",
       "    </tr>\n",
       "    <tr>\n",
       "      <th>2</th>\n",
       "      <td>2020-12-01 00:01:43</td>\n",
       "      <td>105592359704484524120-12505823624394857012</td>\n",
       "      <td>usr.ask_music</td>\n",
       "      <td>{\"msg\":[{\"text\":\"putar musik\"}]}</td>\n",
       "    </tr>\n",
       "    <tr>\n",
       "      <th>3</th>\n",
       "      <td>2020-12-01 00:01:52</td>\n",
       "      <td>105592359704484524120-12505823624394857012</td>\n",
       "      <td>usr.ask_smaltalk</td>\n",
       "      <td>{\"msg\":[{\"text\":\"jeffry s tjandra\"}]}</td>\n",
       "    </tr>\n",
       "    <tr>\n",
       "      <th>4</th>\n",
       "      <td>2020-12-01 02:17:55</td>\n",
       "      <td>108309871992691443733-2009100570206848176</td>\n",
       "      <td>usr.ask_alquran</td>\n",
       "      <td>{\"msg\":[{\"text\":\"baca alquran surat al-baqoroh...</td>\n",
       "    </tr>\n",
       "    <tr>\n",
       "      <th>...</th>\n",
       "      <td>...</td>\n",
       "      <td>...</td>\n",
       "      <td>...</td>\n",
       "      <td>...</td>\n",
       "    </tr>\n",
       "    <tr>\n",
       "      <th>12230</th>\n",
       "      <td>2020-12-31 21:32:52</td>\n",
       "      <td>115769552147797294002-7999865490176235953</td>\n",
       "      <td>usr.ask_alquran</td>\n",
       "      <td>{\"msg\":[{\"text\":\"bacakan alquran surah alkahfi...</td>\n",
       "    </tr>\n",
       "    <tr>\n",
       "      <th>12231</th>\n",
       "      <td>2020-12-31 21:33:20</td>\n",
       "      <td>115769552147797294002-7999865490176235953</td>\n",
       "      <td>usr.ask_alquran</td>\n",
       "      <td>{\"msg\":[{\"text\":\"bacakan alquran surah alkahfi...</td>\n",
       "    </tr>\n",
       "    <tr>\n",
       "      <th>12232</th>\n",
       "      <td>2020-12-31 22:19:58</td>\n",
       "      <td>115769552147797294002-7999865490176235953</td>\n",
       "      <td>usr.ask_alquran</td>\n",
       "      <td>{\"msg\":[{\"text\":\"bacakan alquran surah alkahfi...</td>\n",
       "    </tr>\n",
       "    <tr>\n",
       "      <th>12233</th>\n",
       "      <td>2020-12-31 23:01:23</td>\n",
       "      <td>115769552147797294002-7999865490176235953</td>\n",
       "      <td>usr.ask_alquran</td>\n",
       "      <td>{\"msg\":[{\"text\":\"bacakan alquran surah alkahfi...</td>\n",
       "    </tr>\n",
       "    <tr>\n",
       "      <th>12234</th>\n",
       "      <td>2020-12-31 23:35:11</td>\n",
       "      <td>115769552147797294002-7999865490176235953</td>\n",
       "      <td>usr.ask_alquran</td>\n",
       "      <td>{\"msg\":[{\"text\":\"bacakan alquran surah alkahfi...</td>\n",
       "    </tr>\n",
       "  </tbody>\n",
       "</table>\n",
       "<p>12235 rows × 4 columns</p>\n",
       "</div>"
      ],
      "text/plain": [
       "                 DateTime                                        User  \\\n",
       "0     2020-12-01 00:01:12  105592359704484524120-12505823624394857012   \n",
       "1     2020-12-01 00:01:27  105592359704484524120-12505823624394857012   \n",
       "2     2020-12-01 00:01:43  105592359704484524120-12505823624394857012   \n",
       "3     2020-12-01 00:01:52  105592359704484524120-12505823624394857012   \n",
       "4     2020-12-01 02:17:55   108309871992691443733-2009100570206848176   \n",
       "...                   ...                                         ...   \n",
       "12230 2020-12-31 21:32:52   115769552147797294002-7999865490176235953   \n",
       "12231 2020-12-31 21:33:20   115769552147797294002-7999865490176235953   \n",
       "12232 2020-12-31 22:19:58   115769552147797294002-7999865490176235953   \n",
       "12233 2020-12-31 23:01:23   115769552147797294002-7999865490176235953   \n",
       "12234 2020-12-31 23:35:11   115769552147797294002-7999865490176235953   \n",
       "\n",
       "                 Intent                                    Message Request  \n",
       "0         usr.ask_music                   {\"msg\":[{\"text\":\"putar musik\"}]}  \n",
       "1      usr.ask_smaltalk                  {\"msg\":[{\"text\":\"sandy mohede\"}]}  \n",
       "2         usr.ask_music                   {\"msg\":[{\"text\":\"putar musik\"}]}  \n",
       "3      usr.ask_smaltalk              {\"msg\":[{\"text\":\"jeffry s tjandra\"}]}  \n",
       "4       usr.ask_alquran  {\"msg\":[{\"text\":\"baca alquran surat al-baqoroh...  \n",
       "...                 ...                                                ...  \n",
       "12230   usr.ask_alquran  {\"msg\":[{\"text\":\"bacakan alquran surah alkahfi...  \n",
       "12231   usr.ask_alquran  {\"msg\":[{\"text\":\"bacakan alquran surah alkahfi...  \n",
       "12232   usr.ask_alquran  {\"msg\":[{\"text\":\"bacakan alquran surah alkahfi...  \n",
       "12233   usr.ask_alquran  {\"msg\":[{\"text\":\"bacakan alquran surah alkahfi...  \n",
       "12234   usr.ask_alquran  {\"msg\":[{\"text\":\"bacakan alquran surah alkahfi...  \n",
       "\n",
       "[12235 rows x 4 columns]"
      ]
     },
     "execution_count": 218,
     "metadata": {},
     "output_type": "execute_result"
    }
   ],
   "source": [
    "df"
   ]
  }
 ],
 "metadata": {
  "kernelspec": {
   "display_name": "Python 3",
   "language": "python",
   "name": "python3"
  },
  "language_info": {
   "codemirror_mode": {
    "name": "ipython",
    "version": 3
   },
   "file_extension": ".py",
   "mimetype": "text/x-python",
   "name": "python",
   "nbconvert_exporter": "python",
   "pygments_lexer": "ipython3",
   "version": "3.8.0"
  }
 },
 "nbformat": 4,
 "nbformat_minor": 4
}
